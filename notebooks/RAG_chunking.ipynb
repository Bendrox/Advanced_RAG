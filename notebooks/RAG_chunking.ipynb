{
 "cells": [
  {
   "cell_type": "markdown",
   "metadata": {},
   "source": [
    "## 1 - Import"
   ]
  },
  {
   "cell_type": "code",
   "execution_count": 2,
   "metadata": {},
   "outputs": [],
   "source": [
    "import os\n",
    "import tiktoken\n",
    "import difflib\n",
    "import pandas as pd\n",
    "import io\n",
    "import sys\n",
    "from dotenv import load_dotenv\n",
    "from firecrawl import FirecrawlApp\n",
    "from langchain_openai import AzureChatOpenAI\n",
    "from langchain.embeddings import OpenAIEmbeddings, AzureOpenAIEmbeddings\n",
    "from langchain.document_loaders import PyPDFLoader\n",
    "from langchain_community.document_loaders import PyPDFLoader\n",
    "from langchain.text_splitter import RecursiveCharacterTextSplitter\n",
    "from langchain_community.document_loaders import PyPDFLoader\n",
    "import requests\n",
    "import urllib.parse\n"
   ]
  },
  {
   "cell_type": "code",
   "execution_count": 3,
   "metadata": {},
   "outputs": [
    {
     "data": {
      "text/plain": [
       "True"
      ]
     },
     "execution_count": 3,
     "metadata": {},
     "output_type": "execute_result"
    }
   ],
   "source": [
    "load_dotenv()"
   ]
  },
  {
   "cell_type": "markdown",
   "metadata": {},
   "source": [
    "## 2 - Models"
   ]
  },
  {
   "cell_type": "code",
   "execution_count": 4,
   "metadata": {},
   "outputs": [],
   "source": [
    "llm_4omini = AzureChatOpenAI(\n",
    "    azure_endpoint=os.getenv('Azure_OpenAI_OB_Endpoint_4mini'), \n",
    "    openai_api_version=\"2024-10-21\",   \n",
    "    model_name=\"gpt-4o-mini\",\n",
    "    openai_api_key=os.getenv('Azure_OpenAI_OB_Key_4mini'), \n",
    "    openai_api_type=\"azure\",\n",
    "    temperature=0,\n",
    "    deployment_name=\"gpt4o-mini\")\n",
    "    #streaming=True"
   ]
  },
  {
   "cell_type": "code",
   "execution_count": 5,
   "metadata": {},
   "outputs": [
    {
     "name": "stderr",
     "output_type": "stream",
     "text": [
      "/var/folders/ty/2g_hgfks4nl_84mz496fmn600000gn/T/ipykernel_12973/426928708.py:1: LangChainDeprecationWarning: The class `AzureOpenAIEmbeddings` was deprecated in LangChain 0.0.9 and will be removed in 1.0. An updated version of the class exists in the :class:`~langchain-openai package and should be used instead. To use it run `pip install -U :class:`~langchain-openai` and import as `from :class:`~langchain_openai import AzureOpenAIEmbeddings``.\n",
      "  embeddings = AzureOpenAIEmbeddings(\n"
     ]
    }
   ],
   "source": [
    "embeddings = AzureOpenAIEmbeddings(\n",
    "    model=\"text-embedding-3-large\",\n",
    "    azure_endpoint=os.getenv('Azure_OpenAI_emb_3_large_azure_endpoint'),\n",
    "    openai_api_key=os.getenv('Azure_OpenAI_emb_3_large_api_key'),\n",
    "    openai_api_version=\"2023-05-15\",\n",
    "    chunk_size=1000\n",
    ")\n"
   ]
  },
  {
   "cell_type": "markdown",
   "metadata": {},
   "source": [
    "## 3 - Document loader"
   ]
  },
  {
   "cell_type": "code",
   "execution_count": 13,
   "metadata": {},
   "outputs": [],
   "source": [
    "url_aml_5=\"http://publications.europa.eu/resource/celex/32015L0849\"\n",
    "url_crr=\"http://publications.europa.eu/resource/celex/32013R0575\""
   ]
  },
  {
   "cell_type": "code",
   "execution_count": null,
   "metadata": {},
   "outputs": [],
   "source": [
    "url_aml_5_pdf=\"https://eur-lex.europa.eu/legal-content/FR/TXT/PDF/?uri=CELEX:32015L0849\"\n",
    "url_aml_5_pdf=\"https://eur-lex.europa.eu/legal-content/FR/TXT/PDF/?uri=CELEX:32013R0575\""
   ]
  },
  {
   "cell_type": "code",
   "execution_count": null,
   "metadata": {},
   "outputs": [],
   "source": [
    "from langchain.document_loaders import PyPDFLoader"
   ]
  },
  {
   "cell_type": "markdown",
   "metadata": {},
   "source": [
    "## 3 - Chunking"
   ]
  },
  {
   "cell_type": "code",
   "execution_count": 6,
   "metadata": {},
   "outputs": [],
   "source": [
    "article_splitter = RecursiveCharacterTextSplitter(\n",
    "    separators=   [\"Article\"],\n",
    "    chunk_size= 100, \n",
    "# attention spliter\tSi le « morceau » résultant dépasse chunk_size, il redescend au séparateur suivant (plus petit).\n",
    "    chunk_overlap=0)\n"
   ]
  },
  {
   "cell_type": "code",
   "execution_count": null,
   "metadata": {},
   "outputs": [],
   "source": [
    "chunks_aml5 = article_splitter.split_text(document_aml_pdf_step_4)\n",
    "chunks_aml5"
   ]
  },
  {
   "cell_type": "markdown",
   "metadata": {},
   "source": [
    "## 4 - Après"
   ]
  },
  {
   "cell_type": "code",
   "execution_count": 7,
   "metadata": {},
   "outputs": [],
   "source": [
    "def load_txt(filepath: str):\n",
    "    \"\"\"\n",
    "    Charge un fichier txt dans une variable str\n",
    "    Args: filepath (str)\n",
    "    Returns: str\n",
    "    \n",
    "    \"\"\"\n",
    "    with open(filepath, \"r\", encoding=\"utf-8\") as file:\n",
    "        return file.read()\n",
    "    \n",
    "   \n",
    "def save_txt(filepath: str, text: str):\n",
    "    \"\"\"\n",
    "    Sauvegarde le texte donné dans un fichier .txt.\n",
    "    \n",
    "    Args:\n",
    "        filepath (str): Chemin du fichier où sauvegarder le texte.\n",
    "        text (str): Contenu texte à écrire.\n",
    "    \"\"\"\n",
    "    with open(filepath, \"w\", encoding=\"utf-8\") as fichier:\n",
    "        fichier.write(text)"
   ]
  },
  {
   "cell_type": "code",
   "execution_count": 8,
   "metadata": {},
   "outputs": [],
   "source": [
    "fr_old_version= \"Les entreprises établies en France et qui font partie d'un groupe financier ou d'un groupe comprenant au moins une société de financement ou, pour l'application du 2° du présent article, d'un groupe au sens de l'article L. 356-1 du code des assurances, ou d'un groupe mixte ou d'un conglomérat financier auquel appartiennent des entités réglementées au sens de l'article L. 517-2 ayant leur siège social dans un Etat membre de l'Union européenne ou Etat partie à l'accord sur l'Espace économique européen ou dans un Etat où sont applicables les accords prévus aux articles L. 632-7 , L. 632-13 et L. 632-16 du présent code sont tenues, nonobstant toutes dispositions contraires, de transmettre à des entreprises du même groupe ayant leur siège social dans l'un de ces Etats : 1° Les renseignements relatifs à leur situation financière nécessaires à l'organisation de la surveillance sur base consolidée et de la surveillance complémentaire de ces entités réglementées ou sociétés de financement ; 2° Les informations nécessaires à l'organisation de la lutte contre le blanchiment des capitaux et contre le financement du terrorisme ; 3° Les informations nécessaires à l'organisation de la détection des abus de marché mentionnés à l'article 16 du règlement (UE) n° 596/2014 du Parlement européen et du Conseil du 16 avril 2014 sur les abus de marché (règlement relatif aux abus de marché) et abrogeant la directive 2003/6/CE du Parlement européen et du Conseil et les directives 2003/124/CE, 2003/125/CE et 2004/72/CE de la Commission ; 4° Les informations nécessaires à la gestion des conflits d'intérêts au sens du 3° du I et 3° du II de l'article L. 533-10 . Ces dernières informations ne peuvent être communiquées à des personnes extérieures au groupe, à l'exception des autorités compétentes des Etats visés au premier alinéa. Cette exception ne s'étend pas aux autorités des Etats ou territoires dont la législation est reconnue insuffisante ou dont les pratiques sont considérées comme faisant obstacle à la lutte contre le blanchiment des capitaux ou le financement du terrorisme par l'instance internationale de concertation et de coordination en matière de lutte contre le blanchiment d'argent dont la liste est mise à jour par arrêté du ministre chargé de l'économie. Les personnes recevant ces informations sont tenues au secret professionnel dans les conditions et sous les peines mentionnées à l'article L. 511-33 , pour tous renseignements ou documents qu'elles seraient ainsi amenées à recevoir ou à détenir. Les dispositions du présent article ne font pas obstacle à l'application de la loi n° 78-17 du 6 janvier 1978 relative à l'informatique, aux fichiers et aux libertés.\""
   ]
  },
  {
   "cell_type": "code",
   "execution_count": 9,
   "metadata": {},
   "outputs": [],
   "source": [
    "fr_new_version= \"Les entreprises établies en France et qui font partie d'un groupe financier ou d'un groupe comprenant au moins une société de financement ou, pour l'application du 2° du présent article, d'un groupe au sens de l'article L. 356-1 du code des assurances, d'un groupe au sens du III de l'article L. 511-20 comprenant au moins une entité mentionnée au 1° bis ou 1° ter de l'article L. 561-2, ou d'un groupe mixte ou d'un conglomérat financier auquel appartiennent des entités réglementées au sens de l'article L. 517-2 ayant leur siège social dans un Etat membre de l'Union européenne ou Etat partie à l'accord sur l'Espace économique européen ou dans un Etat où sont applicables les accords prévus aux articles L. 632-7 , L. 632-13 et L. 632-16 du présent code sont tenues, nonobstant toutes dispositions contraires, de transmettre à des entreprises du même groupe ayant leur siège social dans l'un de ces Etats : 1° Les renseignements relatifs à leur situation financière nécessaires à l'organisation de la surveillance sur base consolidée et de la surveillance complémentaire de ces entités réglementées ou sociétés de financement ; 2° Les informations nécessaires à l'organisation de la lutte contre le blanchiment des capitaux et contre le financement du terrorisme ; 3° Les informations nécessaires à l'organisation de la détection des abus de marché mentionnés à l'article 16 du règlement (UE) n° 596/2014 du Parlement européen et du Conseil du 16 avril 2014 sur les abus de marché (règlement relatif aux abus de marché) et abrogeant la directive 2003/6/CE du Parlement européen et du Conseil et les directives 2003/124/CE, 2003/125/CE et 2004/72/CE de la Commission ; 4° Les informations nécessaires à la gestion des conflits d'intérêts au sens du 3° du I et 3° du II de l'article L. 533-10 . Ces dernières informations ne peuvent être communiquées à des personnes extérieures au groupe, à l'exception des autorités compétentes des Etats visés au premier alinéa. Cette exception ne s'étend pas aux autorités des Etats ou territoires dont la législation est reconnue insuffisante ou dont les pratiques sont considérées comme faisant obstacle à la lutte contre le blanchiment des capitaux ou le financement du terrorisme par l'instance internationale de concertation et de coordination en matière de lutte contre le blanchiment d'argent dont la liste est mise à jour par arrêté du ministre chargé de l'économie. Les personnes recevant ces informations sont tenues au secret professionnel dans les conditions et sous les peines mentionnées à l'article L. 511-33 , pour tous renseignements ou documents qu'elles seraient ainsi amenées à recevoir ou à détenir. Les dispositions du présent article ne font pas obstacle à l'application de la loi n° 78-17 du 6 janvier 1978 relative à l'informatique, aux fichiers et aux libertés.\""
   ]
  },
  {
   "cell_type": "code",
   "execution_count": 10,
   "metadata": {},
   "outputs": [],
   "source": [
    "scrape_result= load_txt(\"/Users/oussa/Desktop/Github_perso/Advanced_RAG/data_scrapped/aml5.txt\")"
   ]
  },
  {
   "cell_type": "code",
   "execution_count": 11,
   "metadata": {},
   "outputs": [],
   "source": [
    "def get_eu_data_3p(directive_UE_CRR_step4, fr_old_version, fr_new_version):\n",
    "    prompt_LCQA_3p = f\"\"\" \n",
    "        Tu es un juriste expert avec au moins 10 ans d expérience.\n",
    "        Tu as une double expertise a la fois dans la réglementation francaise et dans les textes européens.\n",
    "        Tu as travaillé a plusieurs reprises sur la transposition des textes européens dans la réglementation francaise.\n",
    "        \n",
    "        Ta tâche :\n",
    "        -   Analyser les changements réglementaires dans la loi francaise avec pour objectif de trouver la ou les parties\n",
    "        de la directive UE (article ou articles) a l origine de ce(s) changement(s).\n",
    "        \n",
    "        Régles : \n",
    "        - Tu te baseras uniquement sur les informations fournies pour faire ton analyse.\n",
    "        - Tu feras ton analyse de la facon la plus conconcieuse et précise \n",
    "        - Tu ne pas pas reciter le contenu de la loi francaise avant et après modification\n",
    "        \n",
    "        Voici le text européen {scrape_result}\n",
    "        Voici le texte de loi francais dans sa version avant l'entree en vigueur du text européen: {fr_old_version}\n",
    "        Voici le texte de loi francais dans sa version après l'entree en vigueur du text européen: {fr_new_version}\n",
    "\"\"\"\n",
    "    output = llm_4omini.invoke(prompt_LCQA_3p)\n",
    "    output= output.content\n",
    "    return output"
   ]
  },
  {
   "cell_type": "code",
   "execution_count": 12,
   "metadata": {},
   "outputs": [
    {
     "data": {
      "text/plain": [
       "\"L'analyse des modifications apportées à la législation française suite à l'entrée en vigueur de la directive (UE) 2015/849 révèle plusieurs éléments clés qui correspondent à des articles spécifiques de la directive.\\n\\n1. **Extension du champ d'application** : La mention des groupes financiers et des entités réglementées a été élargie pour inclure des entités mentionnées au 1° bis ou 1° ter de l'article L. 561-2. Cela fait écho à l'article 2 de la directive, qui définit les entités assujetties et leur champ d'application.\\n\\n2. **Obligations de vigilance** : Les obligations de vigilance à l'égard de la clientèle, notamment en ce qui concerne la transmission d'informations pour la lutte contre le blanchiment de capitaux et le financement du terrorisme, sont renforcées. Cela se rapporte à l'article 11 de la directive, qui impose des mesures de vigilance à l'égard de la clientèle dans divers cas.\\n\\n3. **Secret professionnel** : La protection des informations transmises et le respect du secret professionnel sont maintenus, conformément à l'article 33 de la directive, qui traite des obligations de déclaration et de la protection des personnes signalant des soupçons.\\n\\n4. **Coordination et coopération** : La nécessité de coopération entre les entités assujetties et les autorités compétentes est soulignée, ce qui est en ligne avec les articles 49 et 50 de la directive, qui traitent de la coopération nationale et de la coordination entre les autorités.\\n\\n5. **Sanctions et mesures administratives** : Bien que le texte français ne mentionne pas explicitement les sanctions, la directive (article 58) impose aux États membres de prévoir des sanctions effectives, proportionnées et dissuasives en cas de non-respect des obligations.\\n\\nEn résumé, les modifications apportées à la législation française sont principalement influencées par les articles 2, 11, 33, 49, et 58 de la directive (UE) 2015/849, qui visent à renforcer la lutte contre le blanchiment de capitaux et le financement du terrorisme, à élargir le champ d'application des obligations de vigilance, et à garantir la protection des données et le secret professionnel.\""
      ]
     },
     "execution_count": 12,
     "metadata": {},
     "output_type": "execute_result"
    }
   ],
   "source": [
    "get_eu_data_3p(scrape_result, fr_old_version,fr_new_version)"
   ]
  }
 ],
 "metadata": {
  "kernelspec": {
   "display_name": "Python (Advanced_RAG)",
   "language": "python",
   "name": "mon_env"
  },
  "language_info": {
   "codemirror_mode": {
    "name": "ipython",
    "version": 3
   },
   "file_extension": ".py",
   "mimetype": "text/x-python",
   "name": "python",
   "nbconvert_exporter": "python",
   "pygments_lexer": "ipython3",
   "version": "3.13.2"
  }
 },
 "nbformat": 4,
 "nbformat_minor": 2
}
