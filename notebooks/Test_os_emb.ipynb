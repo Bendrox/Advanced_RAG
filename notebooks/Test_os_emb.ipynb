{
 "cells": [
  {
   "cell_type": "markdown",
   "id": "d3dce1bc",
   "metadata": {},
   "source": [
    "### Testing the most efficient model : multilingual-e5-large-instruct (0.5 B)"
   ]
  },
  {
   "cell_type": "markdown",
   "id": "48ed9825",
   "metadata": {},
   "source": [
    " Even if this model is ranked at the 5th position it is the lighetest and most efficient one without a significant drop in performance (only 0.5 B param)"
   ]
  },
  {
   "cell_type": "code",
   "execution_count": null,
   "id": "47968ea0",
   "metadata": {},
   "outputs": [],
   "source": [
    "import os\n",
    "from transformers import AutoTokenizer, AutoModel"
   ]
  },
  {
   "cell_type": "code",
   "execution_count": null,
   "id": "8b4d7693",
   "metadata": {},
   "outputs": [],
   "source": [
    "tokenizer= AutoTokenizer.from_pretrained(\"intfloat/multilingual-e5-large-instruct\",token =os.getenv('HF_token'))\n",
    "model= AutoModel.from_pretrained(\"intfloat/multilingual-e5-large-instruct\", token=os.getenv('HF_token'))"
   ]
  },
  {
   "cell_type": "code",
   "execution_count": 9,
   "id": "6bbe0111",
   "metadata": {},
   "outputs": [],
   "source": [
    "def get_detailed_instruct(task_description: str, query: str) -> str:\n",
    "    return f'Instruct: {task_description}\\nQuery: {query}'\n",
    "\n",
    "task = 'Given a web search query, retrieve relevant passages that answer the query'\n",
    "queries = [\n",
    "    get_detailed_instruct(task, 'how much protein should a female eat'),\n",
    "    get_detailed_instruct(task, '南瓜的家常做法')\n",
    "]\n",
    "documents = [\n",
    "    \"As a general guideline, the CDC's average requirement of protein for women ages 19 to 70 is 46 grams per day...\",\n",
    "    \"1.清炒南瓜丝 原料:嫩南瓜半个 调料:葱、盐、白糖、鸡精 做法:...\"\n",
    "]\n",
    "input_texts = queries + documents"
   ]
  },
  {
   "cell_type": "code",
   "execution_count": 10,
   "id": "aec51bca",
   "metadata": {},
   "outputs": [],
   "source": [
    "batch_dict = tokenizer(input_texts, max_length=512, padding=True, truncation=True, return_tensors='pt')"
   ]
  },
  {
   "cell_type": "code",
   "execution_count": 11,
   "id": "ecfb4ac9",
   "metadata": {},
   "outputs": [],
   "source": [
    "import torch"
   ]
  },
  {
   "cell_type": "code",
   "execution_count": 12,
   "id": "289a785d",
   "metadata": {},
   "outputs": [],
   "source": [
    "with torch.no_grad():\n",
    "    outputs = model(**batch_dict)\n",
    "    embeddings = average_pool(outputs.last_hidden_state, batch_dict['attention_mask'])"
   ]
  },
  {
   "cell_type": "markdown",
   "id": "13033053",
   "metadata": {},
   "source": [
    "Définir la fonction de pooling :\n",
    "Cette fonction effectue une moyenne pondérée par le masque d’attention."
   ]
  },
  {
   "cell_type": "code",
   "execution_count": 13,
   "id": "888963cb",
   "metadata": {},
   "outputs": [],
   "source": [
    "import torch.nn.functional as F\n",
    "\n",
    "embeddings = F.normalize(embeddings, p=2, dim=1)"
   ]
  },
  {
   "cell_type": "code",
   "execution_count": 14,
   "id": "686916b0",
   "metadata": {},
   "outputs": [
    {
     "data": {
      "text/plain": [
       "tensor([[ 0.0202,  0.0112, -0.0451,  ..., -0.0266, -0.0423,  0.0389],\n",
       "        [ 0.0486,  0.0594,  0.0040,  ..., -0.0214, -0.0263,  0.0198],\n",
       "        [ 0.0198, -0.0023, -0.0366,  ..., -0.0368, -0.0272,  0.0254],\n",
       "        [ 0.0461,  0.0436,  0.0091,  ..., -0.0155, -0.0181,  0.0149]])"
      ]
     },
     "execution_count": 14,
     "metadata": {},
     "output_type": "execute_result"
    }
   ],
   "source": [
    "embeddings"
   ]
  },
  {
   "cell_type": "code",
   "execution_count": 15,
   "id": "4ae27e66",
   "metadata": {},
   "outputs": [
    {
     "name": "stderr",
     "output_type": "stream",
     "text": [
      "/var/folders/ty/2g_hgfks4nl_84mz496fmn600000gn/T/ipykernel_82697/1230817599.py:1: UserWarning: The use of `x.T` on tensors of dimension other than 2 to reverse their shape is deprecated and it will throw an error in a future release. Consider `x.mT` to transpose batches of matrices or `x.permute(*torch.arange(x.ndim - 1, -1, -1))` to reverse the dimensions of a tensor. (Triggered internally at /Users/runner/work/pytorch/pytorch/pytorch/aten/src/ATen/native/TensorShape.cpp:3729.)\n",
      "  similarity = torch.matmul(embeddings[0], embeddings[1].T)\n"
     ]
    }
   ],
   "source": [
    "similarity = torch.matmul(embeddings[0], embeddings[1].T)"
   ]
  },
  {
   "cell_type": "code",
   "execution_count": 16,
   "id": "af6d2256",
   "metadata": {},
   "outputs": [],
   "source": [
    "embedding_list = embeddings.tolist()  # Conversion en liste Python\n",
    "\n",
    "import numpy as np\n",
    "embedding_array = embeddings.cpu().numpy()  # Conversion en tableau NumPy"
   ]
  },
  {
   "cell_type": "code",
   "execution_count": 17,
   "id": "d0d27f28",
   "metadata": {},
   "outputs": [
    {
     "data": {
      "text/plain": [
       "array([[ 0.02018598,  0.01120441, -0.04514236, ..., -0.02658733,\n",
       "        -0.04230955,  0.03893524],\n",
       "       [ 0.04857629,  0.05938283,  0.00398616, ..., -0.02135831,\n",
       "        -0.0263372 ,  0.01975931],\n",
       "       [ 0.01981018, -0.00233509, -0.03661876, ..., -0.03679116,\n",
       "        -0.02720564,  0.02541652],\n",
       "       [ 0.04608595,  0.04364255,  0.00913067, ..., -0.01546213,\n",
       "        -0.01805959,  0.01493509]], dtype=float32)"
      ]
     },
     "execution_count": 17,
     "metadata": {},
     "output_type": "execute_result"
    }
   ],
   "source": [
    "embedding_array"
   ]
  }
 ],
 "metadata": {
  "kernelspec": {
   "display_name": "Python (Advanced_RAG)",
   "language": "python",
   "name": "mon_env"
  },
  "language_info": {
   "codemirror_mode": {
    "name": "ipython",
    "version": 3
   },
   "file_extension": ".py",
   "mimetype": "text/x-python",
   "name": "python",
   "nbconvert_exporter": "python",
   "pygments_lexer": "ipython3",
   "version": "3.13.2"
  }
 },
 "nbformat": 4,
 "nbformat_minor": 5
}
