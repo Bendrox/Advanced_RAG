{
 "cells": [
  {
   "cell_type": "markdown",
   "metadata": {},
   "source": [
    "# Agents test"
   ]
  },
  {
   "cell_type": "code",
   "execution_count": 7,
   "metadata": {},
   "outputs": [],
   "source": [
    "from langchain_core.tools import tool\n",
    "from langchain_openai import ChatOpenAI\n",
    "from langgraph.prebuilt import create_react_agent\n",
    "from langchain_openai import AzureChatOpenAI\n",
    "import math\n",
    "import os"
   ]
  },
  {
   "cell_type": "code",
   "execution_count": 8,
   "metadata": {},
   "outputs": [],
   "source": [
    "llm_4omini = AzureChatOpenAI(\n",
    "    azure_endpoint=os.getenv('Azure_OpenAI_OB_Endpoint_4mini'), \n",
    "    openai_api_version=\"2024-10-21\",   \n",
    "    model_name=\"gpt-4o-mini\",\n",
    "    openai_api_key=os.getenv('Azure_OpenAI_OB_Key_4mini'), \n",
    "    openai_api_type=\"azure\",\n",
    "    temperature=0,\n",
    "    deployment_name=\"gpt4o-mini\")\n",
    "    #streaming=True"
   ]
  },
  {
   "cell_type": "code",
   "execution_count": 22,
   "metadata": {},
   "outputs": [],
   "source": [
    "from langchain.agents import tool\n",
    "\n",
    "@tool\n",
    "def rectangle_area(input:str) -> float:\n",
    "    \"\"\"_summary_\n",
    "    \"\"\"\n",
    "    sides= input.split(',')\n",
    "    a=float(sides[0].strip())\n",
    "    b=float(sides[1].strip())\n",
    "    return a*b"
   ]
  },
  {
   "cell_type": "code",
   "execution_count": 23,
   "metadata": {},
   "outputs": [],
   "source": [
    "tools = [rectangle_area]"
   ]
  },
  {
   "cell_type": "code",
   "execution_count": 24,
   "metadata": {},
   "outputs": [],
   "source": [
    "agent = create_react_agent(llm_4omini, tools)"
   ]
  },
  {
   "cell_type": "code",
   "execution_count": 17,
   "metadata": {},
   "outputs": [],
   "source": [
    "query = \"What is the area of rectangle with sides 5 and 7 ?\""
   ]
  },
  {
   "cell_type": "code",
   "execution_count": 28,
   "metadata": {},
   "outputs": [],
   "source": [
    "resp= agent.invoke({\"messages\": [(\"human\", query)]})"
   ]
  },
  {
   "cell_type": "code",
   "execution_count": 30,
   "metadata": {},
   "outputs": [
    {
     "name": "stdout",
     "output_type": "stream",
     "text": [
      "The area of the rectangle with sides 5 and 7 is 35 square units.\n"
     ]
    }
   ],
   "source": [
    "print(resp['messages'][-1].content)"
   ]
  }
 ],
 "metadata": {
  "kernelspec": {
   "display_name": "Python (Advanced_RAG)",
   "language": "python",
   "name": "mon_env"
  },
  "language_info": {
   "codemirror_mode": {
    "name": "ipython",
    "version": 3
   },
   "file_extension": ".py",
   "mimetype": "text/x-python",
   "name": "python",
   "nbconvert_exporter": "python",
   "pygments_lexer": "ipython3",
   "version": "3.13.2"
  }
 },
 "nbformat": 4,
 "nbformat_minor": 2
}
