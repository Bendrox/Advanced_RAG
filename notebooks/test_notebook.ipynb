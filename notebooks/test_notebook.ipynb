{
 "cells": [
  {
   "cell_type": "code",
   "execution_count": 22,
   "metadata": {},
   "outputs": [],
   "source": [
    "import os\n",
    "import tiktoken\n",
    "import difflib\n",
    "import pandas as pd\n",
    "import io\n",
    "import sys\n",
    "from dotenv import load_dotenv\n",
    "from firecrawl import FirecrawlApp\n",
    "from langchain_openai import AzureChatOpenAI\n",
    "from langchain.embeddings import OpenAIEmbeddings, AzureOpenAIEmbeddings\n",
    "from langchain.document_loaders import PyPDFLoader\n",
    "from langchain_community.document_loaders import PyPDFLoader\n",
    "from langchain.text_splitter import RecursiveCharacterTextSplitter\n",
    "from langchain_community.document_loaders import PyPDFLoader\n",
    "import requests\n",
    "import urllib.parse\n"
   ]
  },
  {
   "cell_type": "code",
   "execution_count": 23,
   "metadata": {},
   "outputs": [
    {
     "data": {
      "text/plain": [
       "True"
      ]
     },
     "execution_count": 23,
     "metadata": {},
     "output_type": "execute_result"
    }
   ],
   "source": [
    "load_dotenv()"
   ]
  },
  {
   "cell_type": "code",
   "execution_count": 24,
   "metadata": {},
   "outputs": [],
   "source": [
    "llm_4omini = AzureChatOpenAI(\n",
    "    azure_endpoint=os.getenv('Azure_OpenAI_OB_Endpoint_4mini'), \n",
    "    openai_api_version=\"2024-10-21\",   \n",
    "    model_name=\"gpt-4o-mini\",\n",
    "    openai_api_key=os.getenv('Azure_OpenAI_OB_Key_4mini'), \n",
    "    openai_api_type=\"azure\",\n",
    "    temperature=0,\n",
    "    deployment_name=\"gpt4o-mini\")\n",
    "    #streaming=True"
   ]
  },
  {
   "cell_type": "code",
   "execution_count": 25,
   "metadata": {},
   "outputs": [],
   "source": [
    "def load_txt(filepath: str):\n",
    "    \"\"\"\n",
    "    Charge un fichier txt dans une variable str\n",
    "    Args: filepath (str)\n",
    "    Returns: str\n",
    "    \n",
    "    \"\"\"\n",
    "    with open(filepath, \"r\", encoding=\"utf-8\") as file:\n",
    "        return file.read()\n",
    "    \n",
    "   \n",
    "def save_txt(filepath: str, text: str):\n",
    "    \"\"\"\n",
    "    Sauvegarde le texte donné dans un fichier .txt.\n",
    "    \n",
    "    Args:\n",
    "        filepath (str): Chemin du fichier où sauvegarder le texte.\n",
    "        text (str): Contenu texte à écrire.\n",
    "    \"\"\"\n",
    "    with open(filepath, \"w\", encoding=\"utf-8\") as fichier:\n",
    "        fichier.write(text)"
   ]
  },
  {
   "cell_type": "code",
   "execution_count": 26,
   "metadata": {},
   "outputs": [],
   "source": [
    "fr_old_version= \"Les entreprises établies en France et qui font partie d'un groupe financier ou d'un groupe comprenant au moins une société de financement ou, pour l'application du 2° du présent article, d'un groupe au sens de l'article L. 356-1 du code des assurances, ou d'un groupe mixte ou d'un conglomérat financier auquel appartiennent des entités réglementées au sens de l'article L. 517-2 ayant leur siège social dans un Etat membre de l'Union européenne ou Etat partie à l'accord sur l'Espace économique européen ou dans un Etat où sont applicables les accords prévus aux articles L. 632-7 , L. 632-13 et L. 632-16 du présent code sont tenues, nonobstant toutes dispositions contraires, de transmettre à des entreprises du même groupe ayant leur siège social dans l'un de ces Etats : 1° Les renseignements relatifs à leur situation financière nécessaires à l'organisation de la surveillance sur base consolidée et de la surveillance complémentaire de ces entités réglementées ou sociétés de financement ; 2° Les informations nécessaires à l'organisation de la lutte contre le blanchiment des capitaux et contre le financement du terrorisme ; 3° Les informations nécessaires à l'organisation de la détection des abus de marché mentionnés à l'article 16 du règlement (UE) n° 596/2014 du Parlement européen et du Conseil du 16 avril 2014 sur les abus de marché (règlement relatif aux abus de marché) et abrogeant la directive 2003/6/CE du Parlement européen et du Conseil et les directives 2003/124/CE, 2003/125/CE et 2004/72/CE de la Commission ; 4° Les informations nécessaires à la gestion des conflits d'intérêts au sens du 3° du I et 3° du II de l'article L. 533-10 . Ces dernières informations ne peuvent être communiquées à des personnes extérieures au groupe, à l'exception des autorités compétentes des Etats visés au premier alinéa. Cette exception ne s'étend pas aux autorités des Etats ou territoires dont la législation est reconnue insuffisante ou dont les pratiques sont considérées comme faisant obstacle à la lutte contre le blanchiment des capitaux ou le financement du terrorisme par l'instance internationale de concertation et de coordination en matière de lutte contre le blanchiment d'argent dont la liste est mise à jour par arrêté du ministre chargé de l'économie. Les personnes recevant ces informations sont tenues au secret professionnel dans les conditions et sous les peines mentionnées à l'article L. 511-33 , pour tous renseignements ou documents qu'elles seraient ainsi amenées à recevoir ou à détenir. Les dispositions du présent article ne font pas obstacle à l'application de la loi n° 78-17 du 6 janvier 1978 relative à l'informatique, aux fichiers et aux libertés.\""
   ]
  },
  {
   "cell_type": "code",
   "execution_count": 27,
   "metadata": {},
   "outputs": [],
   "source": [
    "fr_new_version= \"Les entreprises établies en France et qui font partie d'un groupe financier ou d'un groupe comprenant au moins une société de financement ou, pour l'application du 2° du présent article, d'un groupe au sens de l'article L. 356-1 du code des assurances, d'un groupe au sens du III de l'article L. 511-20 comprenant au moins une entité mentionnée au 1° bis ou 1° ter de l'article L. 561-2, ou d'un groupe mixte ou d'un conglomérat financier auquel appartiennent des entités réglementées au sens de l'article L. 517-2 ayant leur siège social dans un Etat membre de l'Union européenne ou Etat partie à l'accord sur l'Espace économique européen ou dans un Etat où sont applicables les accords prévus aux articles L. 632-7 , L. 632-13 et L. 632-16 du présent code sont tenues, nonobstant toutes dispositions contraires, de transmettre à des entreprises du même groupe ayant leur siège social dans l'un de ces Etats : 1° Les renseignements relatifs à leur situation financière nécessaires à l'organisation de la surveillance sur base consolidée et de la surveillance complémentaire de ces entités réglementées ou sociétés de financement ; 2° Les informations nécessaires à l'organisation de la lutte contre le blanchiment des capitaux et contre le financement du terrorisme ; 3° Les informations nécessaires à l'organisation de la détection des abus de marché mentionnés à l'article 16 du règlement (UE) n° 596/2014 du Parlement européen et du Conseil du 16 avril 2014 sur les abus de marché (règlement relatif aux abus de marché) et abrogeant la directive 2003/6/CE du Parlement européen et du Conseil et les directives 2003/124/CE, 2003/125/CE et 2004/72/CE de la Commission ; 4° Les informations nécessaires à la gestion des conflits d'intérêts au sens du 3° du I et 3° du II de l'article L. 533-10 . Ces dernières informations ne peuvent être communiquées à des personnes extérieures au groupe, à l'exception des autorités compétentes des Etats visés au premier alinéa. Cette exception ne s'étend pas aux autorités des Etats ou territoires dont la législation est reconnue insuffisante ou dont les pratiques sont considérées comme faisant obstacle à la lutte contre le blanchiment des capitaux ou le financement du terrorisme par l'instance internationale de concertation et de coordination en matière de lutte contre le blanchiment d'argent dont la liste est mise à jour par arrêté du ministre chargé de l'économie. Les personnes recevant ces informations sont tenues au secret professionnel dans les conditions et sous les peines mentionnées à l'article L. 511-33 , pour tous renseignements ou documents qu'elles seraient ainsi amenées à recevoir ou à détenir. Les dispositions du présent article ne font pas obstacle à l'application de la loi n° 78-17 du 6 janvier 1978 relative à l'informatique, aux fichiers et aux libertés.\""
   ]
  },
  {
   "cell_type": "code",
   "execution_count": 28,
   "metadata": {},
   "outputs": [],
   "source": [
    "scrape_result= load_txt(\"/Users/oussa/Desktop/Github_perso/Advanced_RAG/data_scrapped/aml5.txt\")"
   ]
  },
  {
   "cell_type": "code",
   "execution_count": 33,
   "metadata": {},
   "outputs": [],
   "source": [
    "def get_eu_data_3p(directive_UE_CRR_step4, fr_old_version, fr_new_version):\n",
    "    prompt_LCQA_3p = f\"\"\" \n",
    "        Tu es un juriste expert avec au moins 10 ans d expérience.\n",
    "        Tu as une double expertise a la fois dans la réglementation francaise et dans les textes européens.\n",
    "        Tu as travaillé a plusieurs reprises sur la transposition des textes européens dans la réglementation francaise.\n",
    "        \n",
    "        Ta tâche :\n",
    "        -   Analyser les changements réglementaires dans la loi francaise avec pour objectif de trouver la ou les parties\n",
    "        de la directive UE (article ou articles) a l origine de ce(s) changement(s).\n",
    "        \n",
    "        Régles : \n",
    "        - Tu te baseras uniquement sur les informations fournies pour faire ton analyse.\n",
    "        - Tu feras ton analyse de la facon la plus conconcieuse et précise \n",
    "        - Tu ne pas pas reciter le contenu de la loi francaise avant et après modification\n",
    "        \n",
    "        Voici le text européen {scrape_result}\n",
    "        Voici le texte de loi francais dans sa version avant l'entree en vigueur du text européen: {fr_old_version}\n",
    "        Voici le texte de loi francais dans sa version après l'entree en vigueur du text européen: {fr_new_version}\n",
    "\"\"\"\n",
    "    output = llm_4omini.invoke(prompt_LCQA_3p)\n",
    "    output= output.content\n",
    "    return output"
   ]
  },
  {
   "cell_type": "code",
   "execution_count": 34,
   "metadata": {},
   "outputs": [
    {
     "data": {
      "text/plain": [
       "\"L'analyse des modifications apportées à la législation française suite à l'entrée en vigueur de la directive (UE) 2015/849 révèle plusieurs éléments clés qui peuvent être directement liés aux articles de la directive.\\n\\n1. **Extension du champ d'application** : La loi française a été modifiée pour inclure des entités supplémentaires dans le champ d'application des obligations de lutte contre le blanchiment de capitaux et le financement du terrorisme. Cela correspond à l'article 2 de la directive, qui définit les entités assujetties, notamment en intégrant des entités mentionnées au 1° bis ou 1° ter de l'article L. 561-2.\\n\\n2. **Obligations de vigilance** : Les exigences de vigilance à l'égard de la clientèle ont été renforcées, ce qui est en ligne avec l'article 11 de la directive, qui stipule que les entités assujetties doivent appliquer des mesures de vigilance dans divers cas, y compris lors de l'établissement d'une relation d'affaires ou lors de transactions d'un montant élevé.\\n\\n3. **Transparence des bénéficiaires effectifs** : La loi française a introduit des obligations concernant la collecte et la conservation d'informations sur les bénéficiaires effectifs, en conformité avec l'article 30 de la directive, qui impose aux États membres de veiller à ce que les entités juridiques conservent des informations adéquates, exactes et actuelles sur leurs bénéficiaires effectifs.\\n\\n4. **Coopération entre entités** : La modification de la loi française renforce également la coopération entre les entités assujetties et les autorités compétentes, ce qui est en accord avec l'article 49 de la directive, qui appelle à des mécanismes efficaces de coopération nationale.\\n\\n5. **Sanctions et mesures administratives** : La loi a été ajustée pour prévoir des sanctions proportionnées et dissuasives en cas de non-respect des obligations, conformément à l'article 58 de la directive, qui exige que les États membres établissent des règles relatives aux sanctions et mesures administratives.\\n\\nCes modifications législatives visent à aligner la réglementation française sur les exigences de la directive européenne, renforçant ainsi le cadre de lutte contre le blanchiment de capitaux et le financement du terrorisme.\""
      ]
     },
     "execution_count": 34,
     "metadata": {},
     "output_type": "execute_result"
    }
   ],
   "source": [
    "get_eu_data_3p(scrape_result, fr_old_version,fr_new_version)"
   ]
  }
 ],
 "metadata": {
  "kernelspec": {
   "display_name": "Python (Advanced_RAG)",
   "language": "python",
   "name": "mon_env"
  },
  "language_info": {
   "codemirror_mode": {
    "name": "ipython",
    "version": 3
   },
   "file_extension": ".py",
   "mimetype": "text/x-python",
   "name": "python",
   "nbconvert_exporter": "python",
   "pygments_lexer": "ipython3",
   "version": "3.13.2"
  }
 },
 "nbformat": 4,
 "nbformat_minor": 2
}
